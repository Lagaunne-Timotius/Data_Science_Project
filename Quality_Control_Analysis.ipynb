{
  "nbformat": 4,
  "nbformat_minor": 0,
  "metadata": {
    "colab": {
      "name": "Quality Control Analysis.ipynb",
      "version": "0.3.2",
      "provenance": [],
      "include_colab_link": true
    },
    "kernelspec": {
      "name": "python3",
      "display_name": "Python 3"
    }
  },
  "cells": [
    {
      "cell_type": "markdown",
      "metadata": {
        "id": "view-in-github",
        "colab_type": "text"
      },
      "source": [
        "<a href=\"https://colab.research.google.com/github/Lagaunne-Timotius/Data_Science_Project/blob/master/Quality_Control_Analysis.ipynb\" target=\"_parent\"><img src=\"https://colab.research.google.com/assets/colab-badge.svg\" alt=\"Open In Colab\"/></a>"
      ]
    },
    {
      "cell_type": "code",
      "metadata": {
        "id": "_VFyYf9heVIh",
        "colab_type": "code",
        "outputId": "0a7501cc-8b4a-45dc-ec15-acb6dfffd272",
        "colab": {
          "resources": {
            "http://localhost:8080/nbextensions/google.colab/files.js": {
              "data": "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",
              "ok": true,
              "headers": [
                [
                  "content-type",
                  "application/javascript"
                ]
              ],
              "status": 200,
              "status_text": ""
            }
          },
          "base_uri": "https://localhost:8080/",
          "height": 91
        }
      },
      "source": [
        "#Reading Data\n",
        "import pandas as pd\n",
        "\n",
        "from google.colab import files\n",
        "uploaded =files.upload()\n",
        "\n",
        "for fn in uploaded.keys():\n",
        "   print('User uploaded file \"{name}\" with length {length} bytes'.format(name=fn, length=len(uploaded[fn])))\n",
        "\n",
        "\n",
        "\n"
      ],
      "execution_count": 2,
      "outputs": [
        {
          "output_type": "display_data",
          "data": {
            "text/html": [
              "\n",
              "     <input type=\"file\" id=\"files-fe274ac6-0e9c-4d99-9ee4-82579e9b3efb\" name=\"files[]\" multiple disabled />\n",
              "     <output id=\"result-fe274ac6-0e9c-4d99-9ee4-82579e9b3efb\">\n",
              "      Upload widget is only available when the cell has been executed in the\n",
              "      current browser session. Please rerun this cell to enable.\n",
              "      </output>\n",
              "      <script src=\"/nbextensions/google.colab/files.js\"></script> "
            ],
            "text/plain": [
              "<IPython.core.display.HTML object>"
            ]
          },
          "metadata": {
            "tags": []
          }
        },
        {
          "output_type": "stream",
          "text": [
            "Saving Quality Control Analysis 1.csv to Quality Control Analysis 1.csv\n",
            "User uploaded file \"Quality Control Analysis 1.csv\" with length 18885938 bytes\n"
          ],
          "name": "stdout"
        }
      ]
    },
    {
      "cell_type": "code",
      "metadata": {
        "id": "_R0167qvi6KN",
        "colab_type": "code",
        "outputId": "99090855-0a13-4ffc-eb79-d33c4ebfb896",
        "colab": {
          "base_uri": "https://localhost:8080/",
          "height": 356
        }
      },
      "source": [
        "    \n",
        "data = pd.read_csv(\"Quality Control Analysis 1.csv\")\n",
        "data=data.dropna(how='all')\n",
        "# iterating the columns \n",
        "for col in data.columns: \n",
        "  print(col) \n",
        "  \n",
        " #Dropping \n",
        "data=data[['QC/Main','Reader','Year-Loc-Tape-Order','Number of points','Percent Residue for the Image (Without Doubt)','Final Grid Residue Count','Visual Estimated Percentage','Final Average Residue Count (Grid + Visual)/2']]"
      ],
      "execution_count": 3,
      "outputs": [
        {
          "output_type": "stream",
          "text": [
            "/usr/local/lib/python3.6/dist-packages/IPython/core/interactiveshell.py:2718: DtypeWarning: Columns (1,2,3,5,8,9,10,11) have mixed types. Specify dtype option on import or set low_memory=False.\n",
            "  interactivity=interactivity, compiler=compiler, result=result)\n"
          ],
          "name": "stderr"
        },
        {
          "output_type": "stream",
          "text": [
            "ID\n",
            "QC/Main\n",
            "Date\n",
            "Reader\n",
            "Year\n",
            "Location\n",
            "Tape\n",
            "Image Order\n",
            "Year-Loc-Tape-Order\n",
            "With Residue/ Without Residue\n",
            "Hit\n",
            "Doubtful Hit\n",
            "Number of points\n",
            "Percent Residue for the Image (Without Doubt)\n",
            "Final Grid Residue Count\n",
            "Visual Estimated Percentage\n",
            "Final Average Residue Count (Grid + Visual)/2\n"
          ],
          "name": "stdout"
        }
      ]
    },
    {
      "cell_type": "code",
      "metadata": {
        "id": "zzlko-EBiElO",
        "colab_type": "code",
        "outputId": "3edfe62c-27f4-437f-c701-f035f1288a00",
        "colab": {
          "base_uri": "https://localhost:8080/",
          "height": 1000
        }
      },
      "source": [
        "\n",
        "\n",
        "# 100 points average vs 400 points average\n",
        "\n",
        "#100pts\n",
        "Main_Data=data[data[\"QC/Main\"]==\"Main\"]\n",
        "Average_Main=Main_Data.groupby('Year-Loc-Tape-Order').mean()\n",
        "print(Average_Main)\n",
        "\n",
        "\n",
        "#400pts\n",
        "\n",
        "Isaac_Data=data[data[\"Reader\"]==\"Isaac\"]\n",
        "Average_Isaac=Isaac_Data.groupby('Year-Loc-Tape-Order').mean()\n",
        "print(Average_Isaac)\n",
        "Ahmed_Data=data[data[\"Reader\"]==\"Ahmed\"]\n",
        "Average_Ahmed=Ahmed_Data.groupby('Year-Loc-Tape-Order').mean()\n",
        "print(Average_Ahmed)\n",
        "Patrick_Data=data[data[\"Reader\"]==\"Patrick\"]\n",
        "Average_Patrick=Patrick_Data.groupby('Year-Loc-Tape-Order').mean()\n",
        "print(Average_Patrick)\n",
        "Parth_Data=data[data[\"Reader\"]==\"Parth\"]\n",
        "Average_Parth=Parth_Data.groupby('Year-Loc-Tape-Order').mean()\n",
        "print(Average_Parth)\n",
        "\n",
        "WD_Grid_All=(Average_Isaac['Percent Residue for the Image (Without Doubt)']+Average_Ahmed['Percent Residue for the Image (Without Doubt)']+Average_Patrick['Percent Residue for the Image (Without Doubt)']+Average_Parth['Percent Residue for the Image (Without Doubt)'])/4\n",
        "Final_Grid__All= (Average_Isaac['Final Grid Residue Count']+Average_Ahmed['Final Grid Residue Count']+Average_Patrick['Final Grid Residue Count']+Average_Parth['Final Grid Residue Count'])/4\n",
        "JC_Estimation_All= (Average_Isaac['Visual Estimated Percentage']+Average_Ahmed['Visual Estimated Percentage']+Average_Patrick['Visual Estimated Percentage']+Average_Parth['Visual Estimated Percentage'])/4\n",
        "Final_JC_Grid_All= (Average_Isaac['Final Average Residue Count (Grid + Visual)/2']+Average_Ahmed['Final Average Residue Count (Grid + Visual)/2']+Average_Patrick['Final Average Residue Count (Grid + Visual)/2']+Average_Parth['Final Average Residue Count (Grid + Visual)/2'])/4\n",
        "\n",
        "\n",
        "#Visualization\n",
        "import pyplot.matplotlib as plt\n",
        "\n",
        "plt.scatter(WD_Grid_All,Average_Patrick['Percent Residue for the Image (Without Doubt)'])\n",
        "\n",
        "plt.show()"
      ],
      "execution_count": 6,
      "outputs": [
        {
          "output_type": "stream",
          "text": [
            "                     Number of points  ...  Final Average Residue Count (Grid + Visual)/2\n",
            "Year-Loc-Tape-Order                    ...                                               \n",
            "2018-L01-1-32                    50.0  ...                                           24.5\n",
            "2018-L01-1-8                     50.0  ...                                           11.5\n",
            "2018-L01-2-30                    50.0  ...                                            3.0\n",
            "2018-L01-2-43                    50.0  ...                                            5.5\n",
            "2018-L01-3-41                    50.0  ...                                            2.5\n",
            "2018-L01-3-8                     50.0  ...                                            2.0\n",
            "2018-L02-1-24                    50.0  ...                                           72.5\n",
            "2018-L02-1-7                     50.0  ...                                           61.0\n",
            "2018-L02-2-33                    50.0  ...                                           32.5\n",
            "2018-L02-2-47                    50.0  ...                                           26.0\n",
            "2018-L02-3-1                     50.0  ...                                           55.0\n",
            "2018-L02-3-25                    50.0  ...                                           20.0\n",
            "2018-L03-1-19                    50.0  ...                                           17.5\n",
            "2018-L03-1-41                    50.0  ...                                            3.5\n",
            "2018-L03-2-12                    50.0  ...                                            8.0\n",
            "2018-L03-2-7                     50.0  ...                                            5.5\n",
            "2018-L03-3-22                    50.0  ...                                           41.5\n",
            "2018-L03-3-50                    50.0  ...                                           14.5\n",
            "2018-L03-4-4                     50.0  ...                                            8.0\n",
            "2018-L03-4-49                    50.0  ...                                            1.0\n",
            "\n",
            "[20 rows x 5 columns]\n",
            "                     Number of points  ...  Final Average Residue Count (Grid + Visual)/2\n",
            "Year-Loc-Tape-Order                    ...                                               \n",
            "2018-L01-1-32                    50.0  ...                                           30.0\n",
            "2018-L01-1-8                     50.0  ...                                           10.0\n",
            "2018-L01-2-30                    50.0  ...                                            2.5\n",
            "2018-L01-2-43                    50.0  ...                                            7.0\n",
            "2018-L01-3-41                   100.0  ...                                            4.0\n",
            "2018-L01-3-8                    100.0  ...                                            6.0\n",
            "2018-L02-1-24                   100.0  ...                                           72.0\n",
            "2018-L02-1-7                    100.0  ...                                           49.0\n",
            "2018-L02-2-33                    50.0  ...                                           27.0\n",
            "2018-L02-2-47                    50.0  ...                                           23.5\n",
            "2018-L02-3-1                     50.0  ...                                           53.0\n",
            "2018-L02-3-25                    50.0  ...                                           25.5\n",
            "2018-L03-1-19                   100.0  ...                                           22.0\n",
            "2018-L03-1-41                   100.0  ...                                            5.0\n",
            "2018-L03-2-12                    50.0  ...                                           10.5\n",
            "2018-L03-2-7                     50.0  ...                                            4.5\n",
            "2018-L03-3-22                    50.0  ...                                           49.0\n",
            "2018-L03-3-50                    50.0  ...                                           20.5\n",
            "2018-L03-4-4                    100.0  ...                                           17.0\n",
            "2018-L03-4-49                   100.0  ...                                            2.0\n",
            "\n",
            "[20 rows x 5 columns]\n",
            "                     Number of points  ...  Final Average Residue Count (Grid + Visual)/2\n",
            "Year-Loc-Tape-Order                    ...                                               \n",
            "2018-L01-1-32                   100.0  ...                                           28.0\n",
            "2018-L01-1-8                    100.0  ...                                            9.0\n",
            "2018-L01-2-30                    50.0  ...                                            1.5\n",
            "2018-L01-2-43                    50.0  ...                                            5.0\n",
            "2018-L01-3-41                    50.0  ...                                            3.0\n",
            "2018-L01-3-8                     50.0  ...                                            3.5\n",
            "2018-L02-1-24                    50.0  ...                                           73.5\n",
            "2018-L02-1-7                     50.0  ...                                           59.5\n",
            "2018-L02-2-33                   100.0  ...                                           25.0\n",
            "2018-L02-2-47                   100.0  ...                                           22.0\n",
            "2018-L02-3-1                    100.0  ...                                           57.0\n",
            "2018-L02-3-25                   100.0  ...                                           18.0\n",
            "2018-L03-1-19                    50.0  ...                                           11.5\n",
            "2018-L03-1-41                    50.0  ...                                            2.0\n",
            "2018-L03-2-12                   100.0  ...                                            4.0\n",
            "2018-L03-2-7                    100.0  ...                                            2.0\n",
            "2018-L03-3-22                   100.0  ...                                           29.0\n",
            "2018-L03-3-50                   100.0  ...                                           13.0\n",
            "2018-L03-4-4                     50.0  ...                                            4.5\n",
            "2018-L03-4-49                    50.0  ...                                            2.0\n",
            "\n",
            "[20 rows x 5 columns]\n",
            "                     Number of points  ...  Final Average Residue Count (Grid + Visual)/2\n",
            "Year-Loc-Tape-Order                    ...                                               \n",
            "2018-L01-1-32                    50.0  ...                                           21.0\n",
            "2018-L01-1-8                     50.0  ...                                           12.5\n",
            "2018-L01-2-30                   100.0  ...                                            2.0\n",
            "2018-L01-2-43                   100.0  ...                                            8.0\n",
            "2018-L01-3-41                    50.0  ...                                            3.5\n",
            "2018-L01-3-8                     50.0  ...                                            5.0\n",
            "2018-L02-1-24                    50.0  ...                                           74.5\n",
            "2018-L02-1-7                     50.0  ...                                           56.5\n",
            "2018-L02-2-33                    50.0  ...                                           36.5\n",
            "2018-L02-2-47                    50.0  ...                                           36.5\n",
            "2018-L02-3-1                    100.0  ...                                           62.0\n",
            "2018-L02-3-25                   100.0  ...                                           28.0\n",
            "2018-L03-1-19                    50.0  ...                                           22.0\n",
            "2018-L03-1-41                    50.0  ...                                            3.0\n",
            "2018-L03-2-12                   100.0  ...                                            9.0\n",
            "2018-L03-2-7                    100.0  ...                                            6.0\n",
            "2018-L03-3-22                    50.0  ...                                           39.0\n",
            "2018-L03-3-50                    50.0  ...                                           21.5\n",
            "2018-L03-4-4                    100.0  ...                                            7.0\n",
            "2018-L03-4-49                   100.0  ...                                            0.0\n",
            "\n",
            "[20 rows x 5 columns]\n",
            "                     Number of points  ...  Final Average Residue Count (Grid + Visual)/2\n",
            "Year-Loc-Tape-Order                    ...                                               \n",
            "2018-L01-1-32                   100.0  ...                                           16.0\n",
            "2018-L01-1-8                    100.0  ...                                           10.0\n",
            "2018-L01-2-30                   100.0  ...                                            2.0\n",
            "2018-L01-2-43                   100.0  ...                                            4.0\n",
            "2018-L01-3-41                   100.0  ...                                            5.0\n",
            "2018-L01-3-8                    100.0  ...                                            4.0\n",
            "2018-L02-1-24                   100.0  ...                                           66.0\n",
            "2018-L02-1-7                    100.0  ...                                           58.0\n",
            "2018-L02-2-33                   100.0  ...                                           28.0\n",
            "2018-L02-2-47                   100.0  ...                                           25.0\n",
            "2018-L02-3-1                     50.0  ...                                           58.5\n",
            "2018-L02-3-25                    50.0  ...                                           20.5\n",
            "2018-L03-1-19                   100.0  ...                                           11.0\n",
            "2018-L03-1-41                   100.0  ...                                            4.0\n",
            "2018-L03-2-12                    50.0  ...                                            7.5\n",
            "2018-L03-2-7                     50.0  ...                                            4.0\n",
            "2018-L03-3-22                   100.0  ...                                           37.0\n",
            "2018-L03-3-50                   100.0  ...                                           21.0\n",
            "2018-L03-4-4                     50.0  ...                                            7.5\n",
            "2018-L03-4-49                    50.0  ...                                            0.5\n",
            "\n",
            "[20 rows x 5 columns]\n"
          ],
          "name": "stdout"
        },
        {
          "output_type": "error",
          "ename": "ModuleNotFoundError",
          "evalue": "ignored",
          "traceback": [
            "\u001b[0;31m---------------------------------------------------------------------------\u001b[0m",
            "\u001b[0;31mModuleNotFoundError\u001b[0m                       Traceback (most recent call last)",
            "\u001b[0;32m<ipython-input-6-51e51efe3b53>\u001b[0m in \u001b[0;36m<module>\u001b[0;34m()\u001b[0m\n\u001b[1;32m     26\u001b[0m \u001b[0;34m\u001b[0m\u001b[0m\n\u001b[1;32m     27\u001b[0m \u001b[0;31m#Visualization\u001b[0m\u001b[0;34m\u001b[0m\u001b[0;34m\u001b[0m\u001b[0;34m\u001b[0m\u001b[0m\n\u001b[0;32m---> 28\u001b[0;31m \u001b[0;32mimport\u001b[0m \u001b[0mpyplot\u001b[0m\u001b[0;34m.\u001b[0m\u001b[0mmatplotlib\u001b[0m \u001b[0;32mas\u001b[0m \u001b[0mplt\u001b[0m\u001b[0;34m\u001b[0m\u001b[0;34m\u001b[0m\u001b[0m\n\u001b[0m\u001b[1;32m     29\u001b[0m \u001b[0;34m\u001b[0m\u001b[0m\n\u001b[1;32m     30\u001b[0m \u001b[0mplt\u001b[0m\u001b[0;34m.\u001b[0m\u001b[0mscatter\u001b[0m\u001b[0;34m(\u001b[0m\u001b[0mWD_Grid_All\u001b[0m\u001b[0;34m,\u001b[0m\u001b[0mAverage_Patrick\u001b[0m\u001b[0;34m[\u001b[0m\u001b[0;34m'Percent Residue for the Image (Without Doubt)'\u001b[0m\u001b[0;34m]\u001b[0m\u001b[0;34m)\u001b[0m\u001b[0;34m\u001b[0m\u001b[0;34m\u001b[0m\u001b[0m\n",
            "\u001b[0;31mModuleNotFoundError\u001b[0m: No module named 'pyplot'",
            "",
            "\u001b[0;31m---------------------------------------------------------------------------\u001b[0;32m\nNOTE: If your import is failing due to a missing package, you can\nmanually install dependencies using either !pip or !apt.\n\nTo view examples of installing some common dependencies, click the\n\"Open Examples\" button below.\n\u001b[0;31m---------------------------------------------------------------------------\u001b[0m\n"
          ]
        }
      ]
    }
  ]
}